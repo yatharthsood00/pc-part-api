{
 "cells": [
  {
   "cell_type": "code",
   "execution_count": null,
   "metadata": {},
   "outputs": [],
   "source": [
    "import requests\n",
    "from bs4 import BeautifulSoup"
   ]
  },
  {
   "cell_type": "code",
   "execution_count": null,
   "metadata": {},
   "outputs": [],
   "source": [
    "URL = \"https://mdcomputers.in/fractal-design-era-gold-m-itx-mini-tower.html\"\n",
    "resp = requests.get(URL)\n",
    "print(resp.status_code)\n",
    "soup = BeautifulSoup(resp.text, 'html5lib')"
   ]
  },
  {
   "cell_type": "code",
   "execution_count": null,
   "metadata": {},
   "outputs": [],
   "source": [
    "print(soup.prettify())"
   ]
  },
  {
   "cell_type": "code",
   "execution_count": null,
   "metadata": {},
   "outputs": [],
   "source": [
    "print(soup.div)"
   ]
  },
  {
   "attachments": {},
   "cell_type": "markdown",
   "metadata": {},
   "source": [
    "### Getting the title value from an ABGB page\n",
    "\n",
    "Stored in a meta tag with og:title 'content' attribute. Only one of its kind, so select_one can be used every time"
   ]
  },
  {
   "cell_type": "code",
   "execution_count": null,
   "metadata": {},
   "outputs": [],
   "source": [
    "price_property = \"product:price:amount\"\n",
    "price_tag = soup.select_one(f'meta[property=\"{price_property}\"]')\n",
    "\n",
    "price = price_tag.get('content')\n",
    "print(price)\n",
    "# price OK"
   ]
  },
  {
   "cell_type": "code",
   "execution_count": null,
   "metadata": {},
   "outputs": [],
   "source": [
    "title_property = \"og:title\"\n",
    "title_tag = soup.select_one(f'meta[property=\"{title_property}\"]')\n",
    "# print(title_tag)\n",
    "title = title_tag.get('content')\n",
    "print(title)\n",
    "# product name OK"
   ]
  },
  {
   "cell_type": "code",
   "execution_count": null,
   "metadata": {},
   "outputs": [],
   "source": [
    "# stock indicator - done\n",
    "# div class = \"stock\" availability, sth sth\n",
    "oos_tag = soup.select_one('div[class=\"stock\"]').text\n",
    "print(oos_tag.split(sep=\":\")[1].strip())"
   ]
  },
  {
   "cell_type": "code",
   "execution_count": null,
   "metadata": {},
   "outputs": [],
   "source": [
    "# product crawler for MD WIP\n"
   ]
  },
  {
   "cell_type": "code",
   "execution_count": null,
   "metadata": {},
   "outputs": [],
   "source": [
    "sitename_property = \"product_title entry-title\"\n",
    "sitename_tag = soup.select(f'h1[class=\"{sitename_property}\"]')\n",
    "print(sitename_tag)\n",
    "# sitename = sitename_tag[-1].text.strip()\n",
    "# print(sitename)\n"
   ]
  },
  {
   "cell_type": "code",
   "execution_count": null,
   "metadata": {},
   "outputs": [],
   "source": [
    "price_class = \"woocommerce-Price-amount amount\"\n",
    "price_tag = soup.select(f'span[class=\"{price_class}\"]')\n",
    "# seems like the last tag is the product itself, the rest are related products. Needs to be checked further\n",
    "price = price_tag[-1].text.strip()\n",
    "print(price)\n"
   ]
  },
  {
   "cell_type": "code",
   "execution_count": null,
   "metadata": {},
   "outputs": [],
   "source": [
    "price_class = \"price pewc-main-price\"\n",
    "price_tag = soup.select(f'p[class=\"{price_class}\"]')\n",
    "# alt way to get price, this time more reliably\n",
    "price = price_tag[-1].text.strip()\n",
    "print(price)"
   ]
  },
  {
   "cell_type": "code",
   "execution_count": null,
   "metadata": {},
   "outputs": [],
   "source": [
    "#1: title (product name)\n",
    "title_meta = soup.find('meta', {'property': 'og:title'})\n",
    "title = title_meta.get('content')\n",
    "print(title)"
   ]
  },
  {
   "cell_type": "code",
   "execution_count": 32,
   "metadata": {},
   "outputs": [],
   "source": [
    "# testing - get page as HTML ():\n",
    "\n",
    "import requests\n",
    "from bs4 import BeautifulSoup\n",
    "import os\n",
    "\n",
    "URL = \"https://mdcomputers.in/motherboards?page=1\"\n",
    "\n",
    "resp = requests.get(URL)\n",
    "soup = BeautifulSoup(resp.text, 'html5lib')\n",
    "\n",
    "# print(soup.prettify)\n",
    "\n",
    "with open(os.path.join(os.getcwd(), 'md-list.html'), 'w') as file:\n",
    "    file.write(soup.prettify())"
   ]
  },
  {
   "cell_type": "code",
   "execution_count": 46,
   "metadata": {},
   "outputs": [
    {
     "name": "stdout",
     "output_type": "stream",
     "text": [
      "25\n",
      "Ant Value B450MAD4-N Motherboard (AMD Socket AM4/Ryzen Series CPU/DDR4 3600MHz Memory) \n",
      "https://mdcomputers.in/ant-value-b450mad4-n.html \n",
      "₹4,699\n"
     ]
    }
   ],
   "source": [
    "divs = soup.find_all('div', class_=\"product-item-container\")\n",
    "print(len(divs))\n",
    "div = divs[0]\n",
    "print(div.find('h4').text)\n",
    "print(div.find('a')['href'])\n",
    "print(div.find('span', class_=\"price-new\").text.strip())\n",
    "\n"
   ]
  },
  {
   "cell_type": "code",
   "execution_count": 28,
   "metadata": {},
   "outputs": [
    {
     "name": "stdout",
     "output_type": "stream",
     "text": [
      "None\n",
      "Call for Price\n",
      "rice\n",
      "https://www.primeabgb.com/online-price-reviews-india/intel-core-i9-13900f-2-0ghz-twenty-four-core-lga1700-processor-bx8071513900f/\n",
      "Intel Core i9 13900F 2.0GHz Twenty Four Core LGA1700 Processor BX8071513900F\n"
     ]
    }
   ],
   "source": [
    "divs = soup.find_all('div', class_=\"product-wrapper\")\n",
    "# print(divs)\n",
    "div = divs[34]\n",
    "# print(div)\n",
    "print(div.find('span', class_=\"out-of-stock\"))\n",
    "#price\n",
    "print(div.find('span', class_='price').text) #.split(\" \")[-1][1:].replace(\",\",\"\"))\n",
    "\n",
    "print(div.find('span', class_='price').text.split(\" \")[-1][1:].replace(\",\",\"\"))\n",
    "\n",
    "print(div.find('a', class_=\"woocommerce-LoopProduct-link\")['href'])\n",
    "\n",
    "print(div.find(\"h3\", class_=\"product-title\").text.strip())\n",
    "\n",
    "# for dv in divs:\n",
    "#     title = dv.find('h4').text\n",
    "#     price = dv.find('span', class_=\"price-new\").text\n",
    "#     print(title, \":\", price)"
   ]
  },
  {
   "cell_type": "code",
   "execution_count": 9,
   "metadata": {},
   "outputs": [
    {
     "name": "stdout",
     "output_type": "stream",
     "text": [
      "NZXT Kraken 120 RGB All In One 120mm CPU Liquid Cooler (RL-KR120-B1) \n",
      "<h4><a href=\"https://mdcomputers.in/nzxt-kraken-120-rgb-black-rl-kr120-b1.html\">NZXT Kraken 120 RGB All In One 120mm CPU Liquid Cooler (RL-KR120-B1) </a></h4>\n",
      "Aerocool Mirage 5 ARGB 60mm CPU Air Cooler \n",
      "<h4><a href=\"https://mdcomputers.in/aerocool-mirage-5-argb.html\">Aerocool Mirage 5 ARGB 60mm CPU Air Cooler </a></h4>\n",
      "AeroCool Mirage L240 ARGB All In One 240mm CPU Liquid Cooler (Black) \n",
      "<h4><a href=\"https://mdcomputers.in/aerocool-mirage-l240-argb-black.html\">AeroCool Mirage L240 ARGB All In One 240mm CPU Liquid Cooler (Black) </a></h4>\n",
      "Alseye HALO H120D RGB 120mm Dual Fan CPU Air Cooler (Black) \n",
      "<h4><a href=\"https://mdcomputers.in/alseye-h120d-rgb-black.html\">Alseye HALO H120D RGB 120mm Dual Fan CPU Air Cooler (Black) </a></h4>\n",
      "Alseye Halo H120T RGB 120mm CPU Air Cooler (Black) \n",
      "<h4><a href=\"https://mdcomputers.in/alseye-halo-h120t-b.html\">Alseye Halo H120T RGB 120mm CPU Air Cooler (Black) </a></h4>\n",
      "Alseye M240 Plus II ARGB All In One 240mm CPU Liquid Cooler with Temperature Display (Black) \n",
      "<h4><a href=\"https://mdcomputers.in/alseye-m240-plus-ii-argb-black.html\">Alseye M240 Plus II ARGB All In One 240mm CPU Liquid Cooler with Temperature Display (Black) </a></h4>\n",
      "Alseye M240B ARGB All In One 240mm CPU Liquid Cooler (Black) \n",
      "<h4><a href=\"https://mdcomputers.in/alseye-m240b-argb-black.html\">Alseye M240B ARGB All In One 240mm CPU Liquid Cooler (Black) </a></h4>\n",
      "Alseye M240W ARGB All In One 240mm CPU Liquid Cooler (White) \n",
      "<h4><a href=\"https://mdcomputers.in/alseye-m240w-argb-white.html\">Alseye M240W ARGB All In One 240mm CPU Liquid Cooler (White) </a></h4>\n",
      "Alseye M360W ARGB All In One 360mm CPU Liquid Cooler (White) \n",
      "<h4><a href=\"https://mdcomputers.in/alseye-m360w-argb-white.html\">Alseye M360W ARGB All In One 360mm CPU Liquid Cooler (White) </a></h4>\n",
      "Alseye M90 ARGB 92mm CPU Air Cooler \n",
      "<h4><a href=\"https://mdcomputers.in/alseye-m90-argb-black.html\">Alseye M90 ARGB 92mm CPU Air Cooler </a></h4>\n",
      "Alseye Warrior W90 ARGB 40mm CPU Air Cooler with Temperature Display (For Intel LGA 1700/1200/115X Sockets) \n",
      "<h4><a href=\"https://mdcomputers.in/alseye-warrior-w90.html\">Alseye Warrior W90 ARGB 40mm CPU Air Cooler with Temperature Display (For Intel LGA 1700/1200/115X Sockets) </a></h4>\n",
      "Alseye Xtreme WaterX360 ARGB All In One 360mm Liquid Cooling Kit (Black) \n",
      "<h4><a href=\"https://mdcomputers.in/alseye-xtreme-x360-soft-tube-water-cooling-kit.html\">Alseye Xtreme WaterX360 ARGB All In One 360mm Liquid Cooling Kit (Black) </a></h4>\n",
      "Ant Esports ICE-C200 120mm CPU Air Cooler With Rainbow LED \n",
      "<h4><a href=\"https://mdcomputers.in/ant-esports-ice-c200-cpu-cooler.html\">Ant Esports ICE-C200 120mm CPU Air Cooler With Rainbow LED </a></h4>\n",
      "Antec A30 92mm CPU Air Cooler \n",
      "<h4><a href=\"https://mdcomputers.in/antec-a30.html\">Antec A30 92mm CPU Air Cooler </a></h4>\n",
      "Antec FrigusAir 400 ARGB 120mm CPU Air Cooler with ARGB Controller (Black) \n",
      "<h4><a href=\"https://mdcomputers.in/antec-frigusair-400-argb-black.html\">Antec FrigusAir 400 ARGB 120mm CPU Air Cooler with ARGB Controller (Black) </a></h4>\n",
      "Antec Symphony 240 ARGB All In One 240mm CPU Liquid Cooler (Black) \n",
      "<h4><a href=\"https://mdcomputers.in/antec-symphony-240-argb-black.html\">Antec Symphony 240 ARGB All In One 240mm CPU Liquid Cooler (Black) </a></h4>\n",
      "Antec T120 RGB 120mm CPU Air Cooler \n",
      "<h4><a href=\"https://mdcomputers.in/antec-t120-rgb.html\">Antec T120 RGB 120mm CPU Air Cooler </a></h4>\n",
      "Antec Vortex 240 ARGB All In One 240mm CPU Liquid Cooler (Black) \n",
      "<h4><a href=\"https://mdcomputers.in/antec-vortex-240-argb-black.html\">Antec Vortex 240 ARGB All In One 240mm CPU Liquid Cooler (Black) </a></h4>\n",
      "Antec Vortex 360 ARGB All In One 360mm CPU Liquid Cooler (Black) \n",
      "<h4><a href=\"https://mdcomputers.in/antec-vortex-360-argb-black.html\">Antec Vortex 360 ARGB All In One 360mm CPU Liquid Cooler (Black) </a></h4>\n",
      "Asus ROG Strix LC 240 RGB White Edition All In One 240mm CPU Liquid Cooler \n",
      "<h4><a href=\"https://mdcomputers.in/asus-rog-strix-lc-240-white.html\">Asus ROG Strix LC 240 RGB White Edition All In One 240mm CPU Liquid Cooler </a></h4>\n",
      "Asus ROG Strix LC II 360 ARGB White Edition All In One 360mm CPU Liquid Cooler \n",
      "<h4><a href=\"https://mdcomputers.in/asus-rog-strix-lc-ii-360-argb-white.html\">Asus ROG Strix LC II 360 ARGB White Edition All In One 360mm CPU Liquid Cooler </a></h4>\n",
      "Asus TUF Gaming LC 120 RGB All In One 120mm CPU Liquid Cooler \n",
      "<h4><a href=\"https://mdcomputers.in/asus-tuf-gaming-lc-120-rgb.html\">Asus TUF Gaming LC 120 RGB All In One 120mm CPU Liquid Cooler </a></h4>\n",
      "Cooler Master Hyper 212 Halo Black ARGB 120mm CPU Air Cooler (RR-S4KK-20PA-R1) \n",
      "<h4><a href=\"https://mdcomputers.in/cooler-master-hyper-212-halo-black-rr-s4kk-20pa-r1.html\">Cooler Master Hyper 212 Halo Black ARGB 120mm CPU Air Cooler (RR-S4KK-20PA-R1) </a></h4>\n",
      "Cooler Master Hyper 212 Halo White ARGB 120mm CPU Air Cooler (RR-S4WW-20PA-R1) \n",
      "<h4><a href=\"https://mdcomputers.in/cooler-master-hyper-212-halo-white-rr-s4ww-20pa-r1.html\">Cooler Master Hyper 212 Halo White ARGB 120mm CPU Air Cooler (RR-S4WW-20PA-R1) </a></h4>\n",
      "Cooler Master Hyper 212 LED Turbo ARGB 120mm Dual Tower CPU Air Cooler (RR-212TK-18PA-R1) \n",
      "<h4><a href=\"https://mdcomputers.in/cooler-master-hyper-212-turbo-argb-rr-212tk-18pa-r1.html\">Cooler Master Hyper 212 LED Turbo ARGB 120mm Dual Tower CPU Air Cooler (RR-212TK-18PA-R1) </a></h4>\n"
     ]
    }
   ],
   "source": [
    "titles = soup.find_all('h4')\n",
    "for title_tag in titles[:25]:\n",
    "    link = title_tag.find('a')['href']\n",
    "    print(title_tag.text)\n",
    "    print(link)\n",
    "# titles = titles[:25]\n",
    "# for title in titles:\n",
    "#     print(title.text)"
   ]
  },
  {
   "cell_type": "code",
   "execution_count": null,
   "metadata": {},
   "outputs": [],
   "source": [
    "prices = soup.find_all('span', class_=\"price-new\")\n",
    "print(len(prices))"
   ]
  },
  {
   "cell_type": "code",
   "execution_count": null,
   "metadata": {},
   "outputs": [],
   "source": [
    "no_of_pages = soup.find('div', class_=\"product-filter product-filter-bottom filters-panel\")\n",
    "pages = int(no_of_pages.text.split(sep=\"(\")[-1].split()[0])\n",
    "print(pages)"
   ]
  },
  {
   "cell_type": "code",
   "execution_count": null,
   "metadata": {},
   "outputs": [],
   "source": [
    "import requests\n",
    "from bs4 import BeautifulSoup\n",
    "import os\n",
    "\n",
    "URL = \"https://mdcomputers.in/\"\n",
    "\n",
    "resp = requests.get(URL)\n",
    "soup = BeautifulSoup(resp.text, 'html5lib')\n",
    "\n",
    "# print(soup.prettify)\n"
   ]
  },
  {
   "cell_type": "code",
   "execution_count": null,
   "metadata": {},
   "outputs": [],
   "source": [
    "clearfix = soup.find_all('a', class_=\"clearfix\")\n",
    "# print(clearfix)"
   ]
  },
  {
   "cell_type": "code",
   "execution_count": null,
   "metadata": {},
   "outputs": [],
   "source": [
    "links = [a['href'] for a in clearfix]\n",
    "print(links)"
   ]
  },
  {
   "cell_type": "code",
   "execution_count": null,
   "metadata": {},
   "outputs": [],
   "source": [
    "page = 'https://mdcomputers.in/diy-or-custom-cooling?page=1'\n",
    "\n"
   ]
  },
  {
   "cell_type": "code",
   "execution_count": null,
   "metadata": {},
   "outputs": [],
   "source": [
    "page_number_dict = {'https://mdcomputers.in/diy-or-custom-cooling': 16, 'https://mdcomputers.in/processor': 3, 'https://mdcomputers.in/cooling-system': 6, 'https://mdcomputers.in/motherboards': 8, 'https://mdcomputers.in/memory': 6, 'https://mdcomputers.in/storage': 7, 'https://mdcomputers.in/graphics-card': 5, 'https://mdcomputers.in/smps': 4, 'https://mdcomputers.in/cabinet': 11, 'https://mdcomputers.in/monitors': 8, 'https://mdcomputers.in/peripherals': 17, 'https://mdcomputers.in/combo-deals': 2, 'https://mdcomputers.in/gamerszone': 14, 'https://mdcomputers.in/laptops.html': 1, 'https://mdcomputers.in/pre-built-pc': 1}\n",
    "page_number_append = '?page=%%'\n",
    "for category_link, pages in page_number_dict.items():\n",
    "    base_link = category_link+page_number_append\n",
    "    for page_number in range(1, pages + 1):\n",
    "        current_link = base_link.replace('%%', str(page_number))\n",
    "        print(current_link)"
   ]
  },
  {
   "cell_type": "code",
   "execution_count": null,
   "metadata": {},
   "outputs": [],
   "source": [
    "for link in links:\n",
    "    resp = requests.get(URL)\n",
    "    soup = BeautifulSoup(resp.text, 'html5lib')\n"
   ]
  },
  {
   "cell_type": "code",
   "execution_count": null,
   "metadata": {},
   "outputs": [],
   "source": [
    "h3tags = soup.find_all('h3')\n",
    "links = []\n",
    "for h3 in h3tags:\n",
    "    anchor = h3.find_all('a')\n",
    "    for a in anchor:\n",
    "        href = a.get('href')\n",
    "        text = a.text.strip()\n",
    "        links.append((text, href))\n",
    "\n",
    "print(links)"
   ]
  },
  {
   "cell_type": "code",
   "execution_count": null,
   "metadata": {},
   "outputs": [],
   "source": [
    "# page by page now:\n",
    "\n",
    "URL = \"https://www.primeabgb.com/page/%%/?s&post_type=product&dgwt_wcas=1&per_page=48\"\n",
    "\n",
    "for page in range(1, 5):\n",
    "    print(\"On page\", page)\n",
    "    cur_URL = URL.replace(\"%%\", str(page))\n",
    "    print(\"Page URL: \", cur_URL)\n",
    "    resp = requests.get(cur_URL)\n",
    "    soup = BeautifulSoup(resp.text, 'html5lib')\n",
    "    h3tags = soup.find_all('h3')\n",
    "    links = []\n",
    "    for h3 in h3tags:\n",
    "        anchor = h3.find_all('a')\n",
    "        for a in anchor:\n",
    "            href = a.get('href')\n",
    "            text = a.text.strip()\n",
    "            links.append((text, href))\n",
    "\n",
    "    with open(os.path.join(os.getcwd(), 'all-links-abgb.txt'), 'a') as file:\n",
    "        for item in links:\n",
    "            line = ': '.join(str(elt) for elt in item)    \n",
    "            file.write(line + '\\n')\n",
    "    \n",
    "    \n"
   ]
  },
  {
   "cell_type": "code",
   "execution_count": null,
   "metadata": {},
   "outputs": [],
   "source": [
    "# creating sqlite db\n",
    "\n",
    "import sqlite3\n",
    "\n",
    "db = sqlite3.connect(\"database.db\")\n",
    "db.execute(\"CREATE TABLE IF NOT EXISTS primeabgb_products (id integer PRIMARY KEY, title text(100), link varchar);\")\n"
   ]
  },
  {
   "cell_type": "code",
   "execution_count": null,
   "metadata": {},
   "outputs": [],
   "source": [
    "\n",
    "cursor = db.cursor()\n",
    "cursor.execute(\"\"\"SELECT name from sqlite_master WHERE type='table';\"\"\")\n",
    "print(cursor.fetchall())"
   ]
  },
  {
   "cell_type": "code",
   "execution_count": null,
   "metadata": {},
   "outputs": [],
   "source": [
    "cursor.execute(\"\"\"SELECT * from primeabgb_products\"\"\")\n",
    "print(cursor.fetchall())"
   ]
  },
  {
   "cell_type": "code",
   "execution_count": null,
   "metadata": {},
   "outputs": [],
   "source": [
    "import requests\n",
    "from bs4 import BeautifulSoup\n",
    "\n",
    "URL = \"https://www.primeabgb.com/?s=undefined&post_type=product&dgwt_wcas=1&per_page=48\"\n",
    "\n",
    "resp = requests.get(URL)\n",
    "\n",
    "soup = BeautifulSoup(resp.text, 'html5lib')\n",
    "\n",
    "page_numbers = soup.find_all('a', class_='page-numbers')\n",
    "\n",
    "final_page = int(page_numbers[3].text)\n",
    "print(final_page)\n"
   ]
  },
  {
   "cell_type": "code",
   "execution_count": null,
   "metadata": {},
   "outputs": [],
   "source": []
  }
 ],
 "metadata": {
  "kernelspec": {
   "display_name": "crawler",
   "language": "python",
   "name": "python3"
  },
  "language_info": {
   "codemirror_mode": {
    "name": "ipython",
    "version": 3
   },
   "file_extension": ".py",
   "mimetype": "text/x-python",
   "name": "python",
   "nbconvert_exporter": "python",
   "pygments_lexer": "ipython3",
   "version": "3.11.4"
  },
  "orig_nbformat": 4
 },
 "nbformat": 4,
 "nbformat_minor": 2
}
